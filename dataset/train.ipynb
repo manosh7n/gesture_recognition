{
 "cells": [
  {
   "cell_type": "code",
   "execution_count": 6,
   "id": "administrative-tribe",
   "metadata": {},
   "outputs": [],
   "source": [
    "import pandas as pd\n",
    "import numpy as np\n",
    "import pickle\n",
    "from sklearn.linear_model import *\n",
    "from sklearn.model_selection import *\n",
    "from sklearn.metrics import *"
   ]
  },
  {
   "cell_type": "code",
   "execution_count": 2,
   "id": "rough-sally",
   "metadata": {},
   "outputs": [],
   "source": [
    "df = pd.read_csv('dataset.csv', header=None)\n",
    "# df = df.drop(columns=list(filter(lambda x: (x+1)%3 == 0, list(range(0, 64)))))"
   ]
  },
  {
   "cell_type": "code",
   "execution_count": 3,
   "id": "small-arrangement",
   "metadata": {
    "pycharm": {
     "name": "#%%\n"
    }
   },
   "outputs": [
    {
     "output_type": "execute_result",
     "data": {
      "text/plain": [
       "         0         1         2         3         4         5         6   \\\n",
       "0  0.511836  0.637170  0.474134  0.626778  0.445819  0.573410  0.450609   \n",
       "1  0.512659  0.640747  0.474861  0.628449  0.446108  0.575793  0.450378   \n",
       "2  0.512647  0.643877  0.475224  0.631744  0.445610  0.578251  0.448308   \n",
       "3  0.513159  0.650373  0.474759  0.637161  0.444326  0.582447  0.449234   \n",
       "4  0.511280  0.658031  0.472758  0.641175  0.443270  0.589702  0.446981   \n",
       "\n",
       "         7         8         9   ...        33        34        35        36  \\\n",
       "0  0.509623  0.473910  0.489897  ...  0.545799  0.536315  0.518569  0.532901   \n",
       "1  0.511808  0.474516  0.494817  ...  0.549297  0.536302  0.520756  0.532023   \n",
       "2  0.512978  0.472458  0.492976  ...  0.550418  0.536469  0.522128  0.532393   \n",
       "3  0.518507  0.474681  0.504265  ...  0.549931  0.536338  0.526699  0.532103   \n",
       "4  0.526438  0.471818  0.507599  ...  0.551039  0.532790  0.531091  0.529289   \n",
       "\n",
       "         37        38        39        40        41   42  \n",
       "0  0.481656  0.529117  0.526541  0.531054  0.538925  0.0  \n",
       "1  0.482252  0.528137  0.527010  0.530419  0.540917  0.0  \n",
       "2  0.487056  0.528770  0.532068  0.531391  0.544561  0.0  \n",
       "3  0.494320  0.528124  0.540335  0.530639  0.547571  0.0  \n",
       "4  0.500241  0.525938  0.546513  0.528643  0.551523  0.0  \n",
       "\n",
       "[5 rows x 43 columns]"
      ],
      "text/html": "<div>\n<style scoped>\n    .dataframe tbody tr th:only-of-type {\n        vertical-align: middle;\n    }\n\n    .dataframe tbody tr th {\n        vertical-align: top;\n    }\n\n    .dataframe thead th {\n        text-align: right;\n    }\n</style>\n<table border=\"1\" class=\"dataframe\">\n  <thead>\n    <tr style=\"text-align: right;\">\n      <th></th>\n      <th>0</th>\n      <th>1</th>\n      <th>2</th>\n      <th>3</th>\n      <th>4</th>\n      <th>5</th>\n      <th>6</th>\n      <th>7</th>\n      <th>8</th>\n      <th>9</th>\n      <th>...</th>\n      <th>33</th>\n      <th>34</th>\n      <th>35</th>\n      <th>36</th>\n      <th>37</th>\n      <th>38</th>\n      <th>39</th>\n      <th>40</th>\n      <th>41</th>\n      <th>42</th>\n    </tr>\n  </thead>\n  <tbody>\n    <tr>\n      <th>0</th>\n      <td>0.511836</td>\n      <td>0.637170</td>\n      <td>0.474134</td>\n      <td>0.626778</td>\n      <td>0.445819</td>\n      <td>0.573410</td>\n      <td>0.450609</td>\n      <td>0.509623</td>\n      <td>0.473910</td>\n      <td>0.489897</td>\n      <td>...</td>\n      <td>0.545799</td>\n      <td>0.536315</td>\n      <td>0.518569</td>\n      <td>0.532901</td>\n      <td>0.481656</td>\n      <td>0.529117</td>\n      <td>0.526541</td>\n      <td>0.531054</td>\n      <td>0.538925</td>\n      <td>0.0</td>\n    </tr>\n    <tr>\n      <th>1</th>\n      <td>0.512659</td>\n      <td>0.640747</td>\n      <td>0.474861</td>\n      <td>0.628449</td>\n      <td>0.446108</td>\n      <td>0.575793</td>\n      <td>0.450378</td>\n      <td>0.511808</td>\n      <td>0.474516</td>\n      <td>0.494817</td>\n      <td>...</td>\n      <td>0.549297</td>\n      <td>0.536302</td>\n      <td>0.520756</td>\n      <td>0.532023</td>\n      <td>0.482252</td>\n      <td>0.528137</td>\n      <td>0.527010</td>\n      <td>0.530419</td>\n      <td>0.540917</td>\n      <td>0.0</td>\n    </tr>\n    <tr>\n      <th>2</th>\n      <td>0.512647</td>\n      <td>0.643877</td>\n      <td>0.475224</td>\n      <td>0.631744</td>\n      <td>0.445610</td>\n      <td>0.578251</td>\n      <td>0.448308</td>\n      <td>0.512978</td>\n      <td>0.472458</td>\n      <td>0.492976</td>\n      <td>...</td>\n      <td>0.550418</td>\n      <td>0.536469</td>\n      <td>0.522128</td>\n      <td>0.532393</td>\n      <td>0.487056</td>\n      <td>0.528770</td>\n      <td>0.532068</td>\n      <td>0.531391</td>\n      <td>0.544561</td>\n      <td>0.0</td>\n    </tr>\n    <tr>\n      <th>3</th>\n      <td>0.513159</td>\n      <td>0.650373</td>\n      <td>0.474759</td>\n      <td>0.637161</td>\n      <td>0.444326</td>\n      <td>0.582447</td>\n      <td>0.449234</td>\n      <td>0.518507</td>\n      <td>0.474681</td>\n      <td>0.504265</td>\n      <td>...</td>\n      <td>0.549931</td>\n      <td>0.536338</td>\n      <td>0.526699</td>\n      <td>0.532103</td>\n      <td>0.494320</td>\n      <td>0.528124</td>\n      <td>0.540335</td>\n      <td>0.530639</td>\n      <td>0.547571</td>\n      <td>0.0</td>\n    </tr>\n    <tr>\n      <th>4</th>\n      <td>0.511280</td>\n      <td>0.658031</td>\n      <td>0.472758</td>\n      <td>0.641175</td>\n      <td>0.443270</td>\n      <td>0.589702</td>\n      <td>0.446981</td>\n      <td>0.526438</td>\n      <td>0.471818</td>\n      <td>0.507599</td>\n      <td>...</td>\n      <td>0.551039</td>\n      <td>0.532790</td>\n      <td>0.531091</td>\n      <td>0.529289</td>\n      <td>0.500241</td>\n      <td>0.525938</td>\n      <td>0.546513</td>\n      <td>0.528643</td>\n      <td>0.551523</td>\n      <td>0.0</td>\n    </tr>\n  </tbody>\n</table>\n<p>5 rows × 43 columns</p>\n</div>"
     },
     "metadata": {},
     "execution_count": 3
    }
   ],
   "source": [
    "df.head()"
   ]
  },
  {
   "cell_type": "code",
   "execution_count": 4,
   "id": "molecular-navigator",
   "metadata": {},
   "outputs": [
    {
     "output_type": "execute_result",
     "data": {
      "text/plain": [
       "(145000, 43)"
      ]
     },
     "metadata": {},
     "execution_count": 4
    }
   ],
   "source": [
    "df.shape"
   ]
  },
  {
   "cell_type": "code",
   "execution_count": 5,
   "id": "aquatic-nutrition",
   "metadata": {},
   "outputs": [],
   "source": [
    "X = df.iloc[:,:-1]\n",
    "Y = df.iloc[:, -1]\n",
    "\n",
    "x_train, x_test, y_train, y_test= train_test_split(X, Y, test_size=0.25, shuffle=True, random_state=42)"
   ]
  },
  {
   "cell_type": "code",
   "execution_count": 6,
   "id": "solar-network",
   "metadata": {},
   "outputs": [],
   "source": [
    "model = LogisticRegression(max_iter=400, n_jobs=-1)\n",
    "# model = LogisticRegressionCV(max_iter=500, n_jobs=-1, cv=10, verbose=1, scoring='accuracy', random_state=42)"
   ]
  },
  {
   "cell_type": "code",
   "execution_count": 31,
   "id": "matched-jurisdiction",
   "metadata": {},
   "outputs": [],
   "source": [
    "# model.fit(x_train, y_train)"
   ]
  },
  {
   "cell_type": "code",
   "execution_count": null,
   "id": "caring-northern",
   "metadata": {},
   "outputs": [
    {
     "name": "stderr",
     "output_type": "stream",
     "text": [
      "[Parallel(n_jobs=-1)]: Using backend LokyBackend with 8 concurrent workers.\n"
     ]
    }
   ],
   "source": [
    "scores = cross_val_score(model, X, Y, cv=10, scoring='accuracy', verbose=10, n_jobs=-1)"
   ]
  },
  {
   "cell_type": "code",
   "execution_count": 33,
   "id": "damaged-devon",
   "metadata": {},
   "outputs": [
    {
     "data": {
      "text/plain": [
       "(0.9957034482758621,\n",
       " array([0.99724138, 0.99993103, 0.99917241, 0.99641379, 0.99958621,\n",
       "        0.99455172, 0.98144828, 0.99896552, 0.99503448, 0.99468966]))"
      ]
     },
     "execution_count": 33,
     "metadata": {},
     "output_type": "execute_result"
    }
   ],
   "source": [
    "np.mean(scores), scores\n"
   ]
  },
  {
   "cell_type": "code",
   "execution_count": 35,
   "id": "material-activity",
   "metadata": {},
   "outputs": [
    {
     "name": "stderr",
     "output_type": "stream",
     "text": [
      "[Parallel(n_jobs=-1)]: Using backend LokyBackend with 8 concurrent workers.\n",
      "[Parallel(n_jobs=-1)]: Done   6 out of  10 | elapsed: 21.4min remaining: 14.3min\n",
      "[Parallel(n_jobs=-1)]: Done  10 out of  10 | elapsed: 31.0min finished\n",
      "/usr/local/lib/python3.9/site-packages/sklearn/linear_model/_logistic.py:763: ConvergenceWarning: lbfgs failed to converge (status=1):\n",
      "STOP: TOTAL NO. of ITERATIONS REACHED LIMIT.\n",
      "\n",
      "Increase the number of iterations (max_iter) or scale the data as shown in:\n",
      "    https://scikit-learn.org/stable/modules/preprocessing.html\n",
      "Please also refer to the documentation for alternative solver options:\n",
      "    https://scikit-learn.org/stable/modules/linear_model.html#logistic-regression\n",
      "  n_iter_i = _check_optimize_result(\n"
     ]
    },
    {
     "data": {
      "text/plain": [
       "LogisticRegressionCV(cv=10, max_iter=500, n_jobs=-1, random_state=42,\n",
       "                     scoring='accuracy', verbose=1)"
      ]
     },
     "execution_count": 35,
     "metadata": {},
     "output_type": "execute_result"
    }
   ],
   "source": [
    "model.fit(X, Y)"
   ]
  },
  {
   "cell_type": "code",
   "execution_count": 36,
   "id": "desirable-boutique",
   "metadata": {
    "pycharm": {
     "name": "#%%\n"
    }
   },
   "outputs": [
    {
     "data": {
      "text/plain": [
       "<sklearn.metrics._plot.confusion_matrix.ConfusionMatrixDisplay at 0x186ef5970>"
      ]
     },
     "execution_count": 36,
     "metadata": {},
     "output_type": "execute_result"
    },
    {
     "data": {
      "image/png": "[encoded data removed]",
      "text/plain": [
       "<Figure size 682x682 with 1 Axes>"
      ]
     },
     "metadata": {
      "needs_background": "light"
     },
     "output_type": "display_data"
    }
   ],
   "source": [
    "import matplotlib.pyplot as mpl\n",
    "\n",
    "ax = mpl.figure(figsize=(11, 11), dpi=62, ).gca()\n",
    "\n",
    "ALPH = ['А', 'Б', 'В', 'Г', 'Д', 'Е', 'Ж', 'З', 'И', 'К', 'Л', 'М',\n",
    "           'Н', 'О', 'П', 'Р', 'С', 'Т', 'У', 'Ф', 'Х', 'Ц', 'Ч', 'Ш', 'Ы', 'Ь', 'Э', 'Ю', 'Я']\n",
    "\n",
    "plot_confusion_matrix(model, X, Y, display_labels=ALPH, ax=ax, cmap='YlGn', colorbar=None)"
   ]
  },
  {
   "cell_type": "code",
   "execution_count": 37,
   "id": "innocent-expansion",
   "metadata": {},
   "outputs": [],
   "source": [
    "classes = Y.nunique()\n",
    "filename = f'lr_{classes}.sav'\n",
    "pickle.dump(model, open(f'../models/{filename}', 'wb'))"
   ]
  },
  {
   "cell_type": "code",
   "execution_count": 38,
   "id": "global-value",
   "metadata": {},
   "outputs": [],
   "source": [
    "# X, Y = x_test, y_test\n",
    "\n",
    "# model.fit(x_train, y_train)\n",
    "pred = model.predict(X)\n",
    "# accuracy_score(y_test, pred)"
   ]
  },
  {
   "cell_type": "code",
   "execution_count": 39,
   "id": "sunrise-malta",
   "metadata": {
    "pycharm": {
     "name": "#%%\n"
    }
   },
   "outputs": [],
   "source": [
    "\n",
    "error_idx = np.nonzero(Y.to_numpy() - pred)[0]\n",
    "idx = Y.iloc[error_idx].index.values.astype(int)\n",
    "mistakes = list(zip(idx, pred[error_idx].astype('int'), Y.to_numpy()[error_idx].astype('int')))\n",
    "\n",
    "with open('wrong_predict.txt', 'w') as out:\n",
    "    for line in mistakes:\n",
    "        print(*line, file=out)"
   ]
  },
  {
   "cell_type": "code",
   "execution_count": null,
   "id": "extreme-toddler",
   "metadata": {},
   "outputs": [],
   "source": []
  }
 ],
 "metadata": {
  "kernelspec": {
   "display_name": "Python 3",
   "language": "python",
   "name": "python3"
  },
  "language_info": {
   "codemirror_mode": {
    "name": "ipython",
    "version": 3
   },
   "file_extension": ".py",
   "mimetype": "text/x-python",
   "name": "python",
   "nbconvert_exporter": "python",
   "pygments_lexer": "ipython3",
   "version": "3.9.2"
  }
 },
 "nbformat": 4,
 "nbformat_minor": 5
}