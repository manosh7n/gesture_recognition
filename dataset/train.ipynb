{
 "cells": [
  {
   "cell_type": "code",
   "execution_count": 2,
   "id": "domestic-arctic",
   "metadata": {},
   "outputs": [],
   "source": [
    "%config IPCompleter.greedy=True"
   ]
  },
  {
   "cell_type": "code",
   "execution_count": 41,
   "id": "administrative-tribe",
   "metadata": {},
   "outputs": [],
   "source": [
    "import pandas as pd\n",
    "import numpy as np\n",
    "import pickle\n",
    "from sklearn.linear_model import *\n",
    "from sklearn.model_selection import cross_val_score, train_test_split\n",
    "from sklearn.metrics import *\n",
    "from catboost import CatBoostClassifier"
   ]
  },
  {
   "cell_type": "code",
   "execution_count": 4,
   "id": "rough-sally",
   "metadata": {},
   "outputs": [],
   "source": [
    "df = pd.read_csv('dataset.csv', header=None)"
   ]
  },
  {
   "cell_type": "code",
   "execution_count": 5,
   "id": "small-arrangement",
   "metadata": {},
   "outputs": [
    {
     "data": {
      "text/html": [
       "<div>\n",
       "<style scoped>\n",
       "    .dataframe tbody tr th:only-of-type {\n",
       "        vertical-align: middle;\n",
       "    }\n",
       "\n",
       "    .dataframe tbody tr th {\n",
       "        vertical-align: top;\n",
       "    }\n",
       "\n",
       "    .dataframe thead th {\n",
       "        text-align: right;\n",
       "    }\n",
       "</style>\n",
       "<table border=\"1\" class=\"dataframe\">\n",
       "  <thead>\n",
       "    <tr style=\"text-align: right;\">\n",
       "      <th></th>\n",
       "      <th>0</th>\n",
       "      <th>1</th>\n",
       "      <th>2</th>\n",
       "      <th>3</th>\n",
       "      <th>4</th>\n",
       "      <th>5</th>\n",
       "      <th>6</th>\n",
       "      <th>7</th>\n",
       "      <th>8</th>\n",
       "      <th>9</th>\n",
       "      <th>...</th>\n",
       "      <th>54</th>\n",
       "      <th>55</th>\n",
       "      <th>56</th>\n",
       "      <th>57</th>\n",
       "      <th>58</th>\n",
       "      <th>59</th>\n",
       "      <th>60</th>\n",
       "      <th>61</th>\n",
       "      <th>62</th>\n",
       "      <th>63</th>\n",
       "    </tr>\n",
       "  </thead>\n",
       "  <tbody>\n",
       "    <tr>\n",
       "      <th>0</th>\n",
       "      <td>0.511836</td>\n",
       "      <td>0.637170</td>\n",
       "      <td>-0.000010</td>\n",
       "      <td>0.474134</td>\n",
       "      <td>0.626778</td>\n",
       "      <td>-0.035878</td>\n",
       "      <td>0.445819</td>\n",
       "      <td>0.573410</td>\n",
       "      <td>-0.050437</td>\n",
       "      <td>0.450609</td>\n",
       "      <td>...</td>\n",
       "      <td>0.532901</td>\n",
       "      <td>0.481656</td>\n",
       "      <td>-0.036599</td>\n",
       "      <td>0.529117</td>\n",
       "      <td>0.526541</td>\n",
       "      <td>-0.034820</td>\n",
       "      <td>0.531054</td>\n",
       "      <td>0.538925</td>\n",
       "      <td>-0.017970</td>\n",
       "      <td>0.0</td>\n",
       "    </tr>\n",
       "    <tr>\n",
       "      <th>1</th>\n",
       "      <td>0.512659</td>\n",
       "      <td>0.640747</td>\n",
       "      <td>0.000006</td>\n",
       "      <td>0.474861</td>\n",
       "      <td>0.628449</td>\n",
       "      <td>-0.031801</td>\n",
       "      <td>0.446108</td>\n",
       "      <td>0.575793</td>\n",
       "      <td>-0.044379</td>\n",
       "      <td>0.450378</td>\n",
       "      <td>...</td>\n",
       "      <td>0.532023</td>\n",
       "      <td>0.482252</td>\n",
       "      <td>-0.034177</td>\n",
       "      <td>0.528137</td>\n",
       "      <td>0.527010</td>\n",
       "      <td>-0.032714</td>\n",
       "      <td>0.530419</td>\n",
       "      <td>0.540917</td>\n",
       "      <td>-0.015090</td>\n",
       "      <td>0.0</td>\n",
       "    </tr>\n",
       "    <tr>\n",
       "      <th>2</th>\n",
       "      <td>0.512647</td>\n",
       "      <td>0.643877</td>\n",
       "      <td>0.000006</td>\n",
       "      <td>0.475224</td>\n",
       "      <td>0.631744</td>\n",
       "      <td>-0.032067</td>\n",
       "      <td>0.445610</td>\n",
       "      <td>0.578251</td>\n",
       "      <td>-0.045439</td>\n",
       "      <td>0.448308</td>\n",
       "      <td>...</td>\n",
       "      <td>0.532393</td>\n",
       "      <td>0.487056</td>\n",
       "      <td>-0.034582</td>\n",
       "      <td>0.528770</td>\n",
       "      <td>0.532068</td>\n",
       "      <td>-0.032108</td>\n",
       "      <td>0.531391</td>\n",
       "      <td>0.544561</td>\n",
       "      <td>-0.013796</td>\n",
       "      <td>0.0</td>\n",
       "    </tr>\n",
       "    <tr>\n",
       "      <th>3</th>\n",
       "      <td>0.513159</td>\n",
       "      <td>0.650373</td>\n",
       "      <td>0.000011</td>\n",
       "      <td>0.474759</td>\n",
       "      <td>0.637161</td>\n",
       "      <td>-0.037138</td>\n",
       "      <td>0.444326</td>\n",
       "      <td>0.582447</td>\n",
       "      <td>-0.054681</td>\n",
       "      <td>0.449234</td>\n",
       "      <td>...</td>\n",
       "      <td>0.532103</td>\n",
       "      <td>0.494320</td>\n",
       "      <td>-0.039853</td>\n",
       "      <td>0.528124</td>\n",
       "      <td>0.540335</td>\n",
       "      <td>-0.038336</td>\n",
       "      <td>0.530639</td>\n",
       "      <td>0.547571</td>\n",
       "      <td>-0.021270</td>\n",
       "      <td>0.0</td>\n",
       "    </tr>\n",
       "    <tr>\n",
       "      <th>4</th>\n",
       "      <td>0.511280</td>\n",
       "      <td>0.658031</td>\n",
       "      <td>0.000008</td>\n",
       "      <td>0.472758</td>\n",
       "      <td>0.641175</td>\n",
       "      <td>-0.034334</td>\n",
       "      <td>0.443270</td>\n",
       "      <td>0.589702</td>\n",
       "      <td>-0.051933</td>\n",
       "      <td>0.446981</td>\n",
       "      <td>...</td>\n",
       "      <td>0.529289</td>\n",
       "      <td>0.500241</td>\n",
       "      <td>-0.043820</td>\n",
       "      <td>0.525938</td>\n",
       "      <td>0.546513</td>\n",
       "      <td>-0.044242</td>\n",
       "      <td>0.528643</td>\n",
       "      <td>0.551523</td>\n",
       "      <td>-0.029630</td>\n",
       "      <td>0.0</td>\n",
       "    </tr>\n",
       "  </tbody>\n",
       "</table>\n",
       "<p>5 rows × 64 columns</p>\n",
       "</div>"
      ],
      "text/plain": [
       "         0         1         2         3         4         5         6   \\\n",
       "0  0.511836  0.637170 -0.000010  0.474134  0.626778 -0.035878  0.445819   \n",
       "1  0.512659  0.640747  0.000006  0.474861  0.628449 -0.031801  0.446108   \n",
       "2  0.512647  0.643877  0.000006  0.475224  0.631744 -0.032067  0.445610   \n",
       "3  0.513159  0.650373  0.000011  0.474759  0.637161 -0.037138  0.444326   \n",
       "4  0.511280  0.658031  0.000008  0.472758  0.641175 -0.034334  0.443270   \n",
       "\n",
       "         7         8         9   ...        54        55        56        57  \\\n",
       "0  0.573410 -0.050437  0.450609  ...  0.532901  0.481656 -0.036599  0.529117   \n",
       "1  0.575793 -0.044379  0.450378  ...  0.532023  0.482252 -0.034177  0.528137   \n",
       "2  0.578251 -0.045439  0.448308  ...  0.532393  0.487056 -0.034582  0.528770   \n",
       "3  0.582447 -0.054681  0.449234  ...  0.532103  0.494320 -0.039853  0.528124   \n",
       "4  0.589702 -0.051933  0.446981  ...  0.529289  0.500241 -0.043820  0.525938   \n",
       "\n",
       "         58        59        60        61        62   63  \n",
       "0  0.526541 -0.034820  0.531054  0.538925 -0.017970  0.0  \n",
       "1  0.527010 -0.032714  0.530419  0.540917 -0.015090  0.0  \n",
       "2  0.532068 -0.032108  0.531391  0.544561 -0.013796  0.0  \n",
       "3  0.540335 -0.038336  0.530639  0.547571 -0.021270  0.0  \n",
       "4  0.546513 -0.044242  0.528643  0.551523 -0.029630  0.0  \n",
       "\n",
       "[5 rows x 64 columns]"
      ]
     },
     "execution_count": 5,
     "metadata": {},
     "output_type": "execute_result"
    }
   ],
   "source": [
    "df.head()"
   ]
  },
  {
   "cell_type": "code",
   "execution_count": 17,
   "id": "aquatic-nutrition",
   "metadata": {},
   "outputs": [],
   "source": [
    "X = df.iloc[:,:63]\n",
    "Y = df.iloc[:, 63]\n",
    "\n",
    "x_train, x_test, y_train, y_test= train_test_split(X, Y, test_size=0.25, shuffle=True, random_state=42)"
   ]
  },
  {
   "cell_type": "code",
   "execution_count": 42,
   "id": "solar-network",
   "metadata": {},
   "outputs": [],
   "source": [
    "# model = LogisticRegression(max_iter=400, n_jobs=-1)\n",
    "model = CatBoostClassifier(random_state=42)"
   ]
  },
  {
   "cell_type": "code",
   "execution_count": 35,
   "id": "caring-northern",
   "metadata": {},
   "outputs": [
    {
     "name": "stderr",
     "output_type": "stream",
     "text": [
      "[Parallel(n_jobs=-1)]: Using backend LokyBackend with 8 concurrent workers.\n",
      "[Parallel(n_jobs=-1)]: Done   3 out of  10 | elapsed:   18.4s remaining:   42.9s\n",
      "[Parallel(n_jobs=-1)]: Done   5 out of  10 | elapsed:   18.4s remaining:   18.4s\n",
      "[Parallel(n_jobs=-1)]: Done   7 out of  10 | elapsed:   18.5s remaining:    7.9s\n",
      "[Parallel(n_jobs=-1)]: Done  10 out of  10 | elapsed:   28.6s finished\n"
     ]
    }
   ],
   "source": [
    "scores = cross_val_score(model, X, Y, cv=10, scoring='accuracy', verbose=10, n_jobs=-1)"
   ]
  },
  {
   "cell_type": "code",
   "execution_count": 36,
   "id": "damaged-devon",
   "metadata": {},
   "outputs": [
    {
     "data": {
      "text/plain": [
       "(0.9975818181818182,\n",
       " array([1.        , 0.99745455, 0.99963636, 0.99727273, 0.99672727,\n",
       "        0.998     , 0.99854545, 0.99781818, 0.99581818, 0.99454545]))"
      ]
     },
     "execution_count": 36,
     "metadata": {},
     "output_type": "execute_result"
    }
   ],
   "source": [
    "np.mean(scores), scores"
   ]
  },
  {
   "cell_type": "code",
   "execution_count": 27,
   "id": "variable-thought",
   "metadata": {},
   "outputs": [
    {
     "data": {
      "text/plain": [
       "(0.997090909090909,\n",
       " array([0.99881818, 0.99790909, 0.99727273, 0.99818182, 0.99327273]))"
      ]
     },
     "execution_count": 27,
     "metadata": {},
     "output_type": "execute_result"
    }
   ],
   "source": [
    "np.mean(scores), scores"
   ]
  },
  {
   "cell_type": "code",
   "execution_count": 40,
   "id": "material-activity",
   "metadata": {},
   "outputs": [
    {
     "data": {
      "text/plain": [
       "LogisticRegression(max_iter=400, n_jobs=-1)"
      ]
     },
     "execution_count": 40,
     "metadata": {},
     "output_type": "execute_result"
    }
   ],
   "source": [
    "model.fit(X, Y)"
   ]
  },
  {
   "cell_type": "code",
   "execution_count": 42,
   "id": "innocent-expansion",
   "metadata": {},
   "outputs": [],
   "source": [
    "filename = 'lr_11.sav'\n",
    "pickle.dump(model, open(f'../models/{filename}', 'wb'))"
   ]
  },
  {
   "cell_type": "code",
   "execution_count": 44,
   "id": "global-value",
   "metadata": {},
   "outputs": [
    {
     "data": {
      "text/plain": [
       "0.9966545454545455"
      ]
     },
     "execution_count": 44,
     "metadata": {},
     "output_type": "execute_result"
    }
   ],
   "source": [
    "model.fit(x_train, y_train, verbose=False)\n",
    "pred = model.predict(x_test)\n",
    "accuracy_score(y_test, pred)"
   ]
  },
  {
   "cell_type": "code",
   "execution_count": 45,
   "id": "champion-species",
   "metadata": {},
   "outputs": [
    {
     "data": {
      "text/plain": [
       "<sklearn.metrics._plot.confusion_matrix.ConfusionMatrixDisplay at 0x1828b48e0>"
      ]
     },
     "execution_count": 45,
     "metadata": {},
     "output_type": "execute_result"
    },
    {
     "data": {
      "image/png": "[encoded data removed]",
      "text/plain": [
       "<Figure size 432x288 with 2 Axes>"
      ]
     },
     "metadata": {
      "needs_background": "light"
     },
     "output_type": "display_data"
    }
   ],
   "source": [
    "plot_confusion_matrix(model, x_test, y_test, display_labels=ALPH)"
   ]
  },
  {
   "cell_type": "code",
   "execution_count": null,
   "id": "extreme-toddler",
   "metadata": {},
   "outputs": [],
   "source": []
  }
 ],
 "metadata": {
  "kernelspec": {
   "display_name": "Python 3",
   "language": "python",
   "name": "python3"
  },
  "language_info": {
   "codemirror_mode": {
    "name": "ipython",
    "version": 3
   },
   "file_extension": ".py",
   "mimetype": "text/x-python",
   "name": "python",
   "nbconvert_exporter": "python",
   "pygments_lexer": "ipython3",
   "version": "3.9.2"
  }
 },
 "nbformat": 4,
 "nbformat_minor": 5
}
